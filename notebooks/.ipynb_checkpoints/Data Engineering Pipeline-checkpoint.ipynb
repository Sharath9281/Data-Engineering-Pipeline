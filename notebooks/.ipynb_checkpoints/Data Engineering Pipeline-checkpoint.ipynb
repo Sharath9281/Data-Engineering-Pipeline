{
 "cells": [
  {
   "cell_type": "code",
   "execution_count": 26,
   "id": "eebb530e-672c-4efb-b8aa-377827e7a461",
   "metadata": {},
   "outputs": [],
   "source": [
    "import os\n",
    "import pandas as pd\n",
    "from faker import Faker\n",
    "import random\n",
    "from pyspark.sql.functions import round as spark_round,col,when,to_date,lit,avg\n",
    "from datetime import datetime,timedelta\n",
    "from sqlalchemy import create_engine\n",
    "from pyspark.sql import SparkSession,Window\n",
    "import numpy as np"
   ]
  },
  {
   "cell_type": "code",
   "execution_count": 27,
   "id": "da61658a-ffc5-4312-a0e4-b7de5519e998",
   "metadata": {},
   "outputs": [],
   "source": [
    "out_dir = \"./data\"\n",
    "os.makedirs(out_dir, exist_ok=True)\n",
    "fake = Faker()"
   ]
  },
  {
   "cell_type": "code",
   "execution_count": 36,
   "id": "7579e9ed-3e2d-479f-a2ca-497ffdd68c37",
   "metadata": {},
   "outputs": [
    {
     "name": "stdout",
     "output_type": "stream",
     "text": [
      "    customer_id                 name                         email  \\\n",
      "0             1       Tiffany Wilson       tiffanywilson@gmail.com   \n",
      "1             2        Samuel Mendez        samuelmendez@gmail.com   \n",
      "2             3     Melissa Gray PhD      melissagrayphd@gmail.com   \n",
      "3             4  Kimberly Washington  kimberlywashington@gmail.com   \n",
      "4             5      Jennifer Duncan      jenniferduncan@gmail.com   \n",
      "5             6          Tyler Allen          tylerallen@gmail.com   \n",
      "6             7            Erik Frey            erikfrey@gmail.com   \n",
      "7             8      Sydney Robinson      sydneyrobinson@gmail.com   \n",
      "8             9            Todd Hall            toddhall@gmail.com   \n",
      "9            10            Dana Soto                          None   \n",
      "10           11       Melissa Harris       melissaharris@gmail.com   \n",
      "11           12        Carl Jennings        carljennings@gmail.com   \n",
      "12           13        Robert Harris        robertharris@gmail.com   \n",
      "13           14          Brian Gould          briangould@gmail.com   \n",
      "14           15          Matthew Gay                          None   \n",
      "15           16         Laurie Avila         laurieavila@gmail.com   \n",
      "16           17         Bobby Garcia         bobbygarcia@gmail.com   \n",
      "17           18       Jerry Williams       jerrywilliams@gmail.com   \n",
      "18           19    Dr. Stacey Levine     dr.staceylevine@gmail.com   \n",
      "19           20          Mark Rivera                          None   \n",
      "20           21        Ashley Graham        ashleygraham@gmail.com   \n",
      "21           22      Thomas Williams      thomaswilliams@gmail.com   \n",
      "22           23     Jessica Williams     jessicawilliams@gmail.com   \n",
      "23           24           Carl Smith           carlsmith@gmail.com   \n",
      "24           25            Brian Lee            brianlee@gmail.com   \n",
      "25           26       Jennifer Young       jenniferyoung@gmail.com   \n",
      "26           27       Justin Terrell       justinterrell@gmail.com   \n",
      "27           28    Brandon Hernandez    brandonhernandez@gmail.com   \n",
      "28           29      Raymond Wilkins      raymondwilkins@gmail.com   \n",
      "29           30          Sharon King                          None   \n",
      "\n",
      "              country  \n",
      "0          Madagascar  \n",
      "1            Colombia  \n",
      "2               Korea  \n",
      "3           Australia  \n",
      "4             Georgia  \n",
      "5              Gambia  \n",
      "6             Comoros  \n",
      "7         Philippines  \n",
      "8      Cayman Islands  \n",
      "9         Netherlands  \n",
      "10              Tonga  \n",
      "11            Somalia  \n",
      "12         Martinique  \n",
      "13          Venezuela  \n",
      "14              Chile  \n",
      "15          Australia  \n",
      "16              Congo  \n",
      "17              India  \n",
      "18  Brunei Darussalam  \n",
      "19    Kyrgyz Republic  \n",
      "20               Cuba  \n",
      "21              Kenya  \n",
      "22      French Guiana  \n",
      "23            Burundi  \n",
      "24            Vanuatu  \n",
      "25           Anguilla  \n",
      "26          Nicaragua  \n",
      "27      French Guiana  \n",
      "28              Nauru  \n",
      "29   Papua New Guinea  \n"
     ]
    }
   ],
   "source": [
    "customers = []\n",
    "for i in range(1,71):\n",
    "    name=fake.name()\n",
    "    email_name=name.lower().replace(\" \",\"\")\n",
    "    email=f\"{email_name}@gmail.com\"\n",
    "    country=fake.country()\n",
    "    if i%10==0:\n",
    "      email=None\n",
    "    if i%15==0:\n",
    "      email=None\n",
    "    if i%20==0:\n",
    "        name=\"##INVALID##\"\n",
    "\n",
    "    customers.append({\n",
    "        \"customer_id\": i,\n",
    "        \"name\": name,\n",
    "        \"email\": email,\n",
    "        \"country\":country\n",
    "    })\n",
    "pd.DataFrame(customers).to_csv(f\"{out_dir }/customers.csv\", index=False)\n",
    "customers_df=pd.DataFrame(customers)\n",
    "print(customers_df.head(30))"
   ]
  },
  {
   "cell_type": "code",
   "execution_count": 37,
   "id": "f5961156-07d3-4b3d-8d09-a6157f3d4083",
   "metadata": {},
   "outputs": [
    {
     "name": "stdout",
     "output_type": "stream",
     "text": [
      "   order_id  customer_id  product_id  order_date   amount     status\n",
      "0         1           26          22  2025-09-10   872.62   returned\n",
      "1         2           51          16  2025-09-10   212.68    pending\n",
      "2         3           24          22  2025-09-10   241.38   returned\n",
      "3         4           33          19  2025-09-10   237.49    pending\n",
      "4         5           51          12  2025-09-10  1210.65  completed\n"
     ]
    }
   ],
   "source": [
    "statuses = [\"completed\", \"pending\", \"cancelled\", \"returned\"]\n",
    "orders = []\n",
    "\n",
    "for i in range(1, 100):\n",
    "    order_date = fake.date_between(start_date='-6m', end_date='today').strftime(\"%Y-%m-%d\")\n",
    "    if i % 17 == 0:\n",
    "        order_date = None\n",
    "    amount = __builtins__.round(random.uniform(-50, 2000), 2)\n",
    "    if i % 12 == 0:\n",
    "        amount = -abs(amount)\n",
    "    status = random.choice(statuses)\n",
    "    orders.append({\n",
    "        \"order_id\": i,\n",
    "        \"customer_id\": random.randint(1, 70),\n",
    "        \"product_id\": random.randint(1, 50),\n",
    "        \"order_date\": order_date,\n",
    "        \"amount\": amount,\n",
    "        \"status\": status\n",
    "    })\n",
    "orders_df = pd.DataFrame(orders)\n",
    "orders_df.to_csv(f\"{out_dir}/orders.csv\", index=False)\n",
    "print(orders_df.head())"
   ]
  },
  {
   "cell_type": "code",
   "execution_count": 38,
   "id": "6ef7f3a9-7d79-449a-924f-1c5f55962330",
   "metadata": {},
   "outputs": [
    {
     "name": "stdout",
     "output_type": "stream",
     "text": [
      "   product_id                        name     category    price\n",
      "0           1                   iPhone 14  Electronics   237.28\n",
      "1           2          Samsung Galaxy S23  Electronics  1015.56\n",
      "2           3              MacBook Pro 14  Electronics    70.02\n",
      "3           4  Sony WH-1000XM5 Headphones  Electronics   795.36\n",
      "4           5        Apple Watch Series 9    Wearables  1197.66\n"
     ]
    }
   ],
   "source": [
    "products_catalog = [\n",
    "    (\"iPhone 14\", \"Electronics\"), (\"Samsung Galaxy S23\", \"Electronics\"),\n",
    "    (\"MacBook Pro 14\", \"Electronics\"), (\"Sony WH-1000XM5 Headphones\", \"Electronics\"),\n",
    "    (\"Apple Watch Series 9\", \"Wearables\"), (\"Fitbit Charge 5\", \"Wearables\"),\n",
    "    (\"Dell XPS 13 Laptop\", \"Electronics\"), (\"iPad Air\", \"Tablets\"),\n",
    "    (\"Bose QuietComfort Earbuds\", \"Audio\"), (\"Samsung Galaxy Buds\", \"Audio\"),\n",
    "    (\"Canon EOS Rebel Camera\", \"Photography\"), (\"GoPro HERO10\", \"Photography\"),\n",
    "    (\"Nike Air Max Shoes\", \"Footwear\"), (\"Puma Running Shoes\", \"Footwear\"),\n",
    "    (\"Levi's 501 Jeans\", \"Apparel\"), (\"Adidas Hoodie\", \"Apparel\"),\n",
    "    (\"Zara T-Shirt\", \"Apparel\"), (\"H&M Casual Dress\", \"Apparel\"),\n",
    "    (\"Gucci Leather Belt\", \"Accessories\"), (\"Under Armour Shorts\", \"Sportswear\"),\n",
    "    (\"Harry Potter Book Set\", \"Books\"), (\"The Lord of the Rings Trilogy\", \"Books\"),\n",
    "    (\"Atomic Habits\", \"Books\"), (\"Rich Dad Poor Dad\", \"Books\"),\n",
    "    (\"Python Crash Course\", \"Books\"), (\"Clean Code\", \"Books\"),\n",
    "    (\"Game of Thrones Box Set\", \"Books\"), (\"The Lean Startup\", \"Books\"),\n",
    "    (\"To Kill a Mockingbird\", \"Books\"), (\"1984\", \"Books\"),\n",
    "    (\"Ikea Dining Table\", \"Furniture\"), (\"Sealy Memory Foam Mattress\", \"Furniture\"),\n",
    "    (\"Ikea Chair Set\", \"Furniture\"), (\"Philips Air Fryer\", \"Kitchen Appliances\"),\n",
    "    (\"NutriBullet Blender\", \"Kitchen Appliances\"), (\"Instant Pot Cooker\", \"Kitchen Appliances\"),\n",
    "    (\"Hamilton Beach Toaster\", \"Kitchen Appliances\"), (\"Keurig Coffee Maker\", \"Kitchen Appliances\"),\n",
    "    (\"Philips LED Desk Lamp\", \"Lighting\"), (\"Dyson V15 Vacuum Cleaner\", \"Home Appliances\"),\n",
    "    (\"Wilson Tennis Racket\", \"Sports Equipment\"), (\"Adidas Football\", \"Sports Equipment\"),\n",
    "    (\"Spalding Basketball\", \"Sports Equipment\"), (\"Yonex Badminton Racket\", \"Sports Equipment\"),\n",
    "    (\"Nike Yoga Mat\", \"Fitness\"), (\"Reebok Jump Rope\", \"Fitness\"),\n",
    "    (\"Speedo Swimming Goggles\", \"Sports Accessories\"), (\"Titleist Golf Balls\", \"Sports Equipment\"),\n",
    "    (\"LEGO Star Wars Set\", \"Toys & Games\"), (\"Barbie Dreamhouse\", \"Dolls\"),\n",
    "    (\"Hot Wheels Track Set\", \"Toys & Games\"), (\"Monopoly Board Game\", \"Board Games\"),\n",
    "    (\"Rubik's Cube\", \"Puzzles\"), (\"Nerf Elite Blaster\", \"Outdoor Toys\"),\n",
    "    (\"Play-Doh Fun Pack\", \"Arts & Crafts\"), (\"Fisher-Price Baby Gym\", \"Baby Toys\"),\n",
    "    (\"Disney Princess Doll\", \"Dolls\"), (\"LEGO Technic Car\", \"Toys & Games\")\n",
    "]\n",
    "products = []\n",
    "for i, (name, category) in enumerate(products_catalog, start=1):\n",
    "    products.append({\n",
    "        \"product_id\": i,\n",
    "        \"name\": name,\n",
    "        \"category\": category,\n",
    "        \"price\": round(random.uniform(10, 1200), 2)\n",
    "    })\n",
    "pd.DataFrame(products).to_csv(f\"{out_dir}/products.csv\", index=False)\n",
    "products_df=pd.DataFrame(products)\n",
    "print(products_df.head())"
   ]
  },
  {
   "cell_type": "code",
   "execution_count": 31,
   "id": "11209586-0063-469e-b442-fce6d3eca80d",
   "metadata": {},
   "outputs": [],
   "source": [
    "jdbc_jar = r\"C:\\spark\\spark-3.5.6-bin-hadoop3\\jars\\postgresql-42.7.7.jar\"\n",
    "\n",
    "spark = SparkSession.builder \\\n",
    "    .appName(\"DataEngineeringPipeline\") \\\n",
    "    .config(\"spark.driver.extraClassPath\", jdbc_jar) \\\n",
    "    .getOrCreate()"
   ]
  },
  {
   "cell_type": "code",
   "execution_count": 39,
   "id": "099f645a-8c8d-40f6-92f5-4bcf90cdd8f0",
   "metadata": {},
   "outputs": [],
   "source": [
    "customers_df = spark.read.csv(f\"{out_dir}/customers.csv\", header=True, inferSchema=True)\n",
    "products_df= spark.read.csv(f\"{out_dir}/products.csv\", header=True, inferSchema=True)\n",
    "orders_df = spark.read.csv(f\"{out_dir}/orders.csv\", header=True, inferSchema=True)"
   ]
  },
  {
   "cell_type": "code",
   "execution_count": 40,
   "id": "a0578f82-bc95-429f-86b2-a42151716ad8",
   "metadata": {},
   "outputs": [],
   "source": [
    "customers_df = customers_df.toDF(*[c.lower().strip() for c in customers_df.columns])\n",
    "products_df = products_df.toDF(*[c.lower().strip() for c in products_df.columns])\n",
    "orders_df   = orders_df.toDF(*[c.lower().strip() for c in orders_df.columns])"
   ]
  },
  {
   "cell_type": "code",
   "execution_count": 41,
   "id": "5d73e50d-5979-4032-990e-ccddaf388200",
   "metadata": {},
   "outputs": [],
   "source": [
    "customers_df=customers_df.withColumn(\"name\",when((col(\"name\")==\"##INVALID##\")| (col(\"name\").isNull()),None).otherwise(col(\"name\")))\n",
    "customers_df = customers_df.withColumn(\"email\",when((col(\"email\")==\"None\") | (col(\"email\").isNull()), None).otherwise(col(\"email\")))\n",
    "customers_df = customers_df.dropDuplicates([\"customer_id\"])"
   ]
  },
  {
   "cell_type": "code",
   "execution_count": 49,
   "id": "11b4ab5a-af36-4306-b532-b8a9096dd114",
   "metadata": {},
   "outputs": [],
   "source": [
    "orders_df = orders_df.withColumn(\"order_date\",to_date(\"order_date\", \"yyyy-MM-dd\"))\n",
    "orders_df = orders_df.withColumn(\"amount\",when(col(\"amount\") <= 0, 0).otherwise(col(\"amount\")))"
   ]
  },
  {
   "cell_type": "code",
   "execution_count": 50,
   "id": "ebd6816d-7c2f-459f-a5a7-e197583d9e33",
   "metadata": {},
   "outputs": [],
   "source": [
    "category_avg = products_df.groupBy(\"category\").agg(avg(\"price\").alias(\"avg_price\"))\n",
    "products_df = products_df.join(category_avg, on=\"category\", how=\"left\")\n",
    "products_df = products_df.withColumn(\"price\",when(col(\"price\") <= 0, col(\"avg_price\")).otherwise(col(\"price\")))\n",
    "products_df = products_df.drop(\"avg_price\")"
   ]
  },
  {
   "cell_type": "code",
   "execution_count": 51,
   "id": "db15d316-a4df-4da2-a607-5682e451e600",
   "metadata": {},
   "outputs": [],
   "source": [
    "customers_df = customers_df.withColumnRenamed(\"name\", \"customer_name\")\n",
    "products_df  = products_df.withColumnRenamed(\"name\", \"product_name\")"
   ]
  },
  {
   "cell_type": "code",
   "execution_count": 52,
   "id": "b25d3095-5acb-480a-805a-59e2ab482e4c",
   "metadata": {},
   "outputs": [],
   "source": [
    "jdbc_url = \"jdbc:postgresql://localhost:5432/de_pipeline\""
   ]
  },
  {
   "cell_type": "code",
   "execution_count": 53,
   "id": "efa32e8e-7f8e-4995-a206-a2e09cbb9985",
   "metadata": {},
   "outputs": [],
   "source": [
    "connection_props = {\n",
    "    \"user\": \"postgres\",\n",
    "    \"password\": \"root\",\n",
    "    \"driver\": \"org.postgresql.Driver\"\n",
    "}"
   ]
  },
  {
   "cell_type": "code",
   "execution_count": 73,
   "id": "0c123fe4-425b-4fd9-86b8-a3b8e6bb584d",
   "metadata": {},
   "outputs": [],
   "source": [
    "customers_df.write.jdbc(url=jdbc_url, table=\"customers\", mode=\"append\", properties=connection_props)"
   ]
  },
  {
   "cell_type": "code",
   "execution_count": 75,
   "id": "53291cba-5ba3-4fb9-b095-7695262830e9",
   "metadata": {},
   "outputs": [],
   "source": [
    "products_df.write.jdbc(url=jdbc_url, table=\"products\", mode=\"append\", properties=connection_props)"
   ]
  },
  {
   "cell_type": "code",
   "execution_count": 76,
   "id": "b88223e9-c6de-4f4b-a99b-262fd9c9b0e2",
   "metadata": {},
   "outputs": [],
   "source": [
    "orders_df.write.jdbc(url=jdbc_url, table=\"orders\", mode=\"append\", properties=connection_props)"
   ]
  },
  {
   "cell_type": "code",
   "execution_count": 54,
   "id": "f4a8d630-8a61-4154-b1ba-b896bca0cf03",
   "metadata": {},
   "outputs": [],
   "source": [
    "order_details = (\n",
    "    orders_df\n",
    "    .join(customers_df, \"customer_id\", \"inner\")\n",
    "    .join(products_df, \"product_id\", \"inner\")\n",
    "    .select(\n",
    "        \"order_id\",\n",
    "        customers_df[\"customer_name\"],\n",
    "        \"country\",\n",
    "        products_df[\"product_name\"],\n",
    "        \"category\",\n",
    "        \"amount\",\n",
    "        \"status\",\n",
    "        \"order_date\"\n",
    "    )\n",
    ")"
   ]
  },
  {
   "cell_type": "code",
   "execution_count": 61,
   "id": "bbd6036e-8730-430f-9859-3b3bc8a5efc4",
   "metadata": {},
   "outputs": [
    {
     "name": "stdout",
     "output_type": "stream",
     "text": [
      "+--------+-------------------+--------------+--------------------+------------------+-------+---------+----------+\n",
      "|order_id|      customer_name|       country|        product_name|          category| amount|   status|order_date|\n",
      "+--------+-------------------+--------------+--------------------+------------------+-------+---------+----------+\n",
      "|      93|     Tiffany Wilson|    Madagascar|To Kill a Mocking...|             Books| 369.56| returned|2025-09-10|\n",
      "|      45|     Tiffany Wilson|    Madagascar|            iPad Air|           Tablets| 446.23| returned|2025-09-10|\n",
      "|      33|     Tiffany Wilson|    Madagascar|  Nike Air Max Shoes|          Footwear|1249.39|  pending|2025-09-10|\n",
      "|      23|      Samuel Mendez|      Colombia|      MacBook Pro 14|       Electronics|  634.8|cancelled|2025-09-10|\n",
      "|      78|   Melissa Gray PhD|         Korea| Titleist Golf Balls|  Sports Equipment|1237.29| returned|2025-09-10|\n",
      "|      16|   Melissa Gray PhD|         Korea|Hamilton Beach To...|Kitchen Appliances| 885.87|  pending|2025-09-10|\n",
      "|      61|Kimberly Washington|     Australia|    The Lean Startup|             Books| 583.84| returned|2025-09-10|\n",
      "|      85|    Jennifer Duncan|       Georgia|Sealy Memory Foam...|         Furniture| 1757.7|completed|      NULL|\n",
      "|      57|        Tyler Allen|        Gambia|     Fitbit Charge 5|         Wearables|1181.08|completed|2025-09-10|\n",
      "|      29|          Todd Hall|Cayman Islands|  Dell XPS 13 Laptop|       Electronics|1178.93| returned|2025-09-10|\n",
      "|      75|          Dana Soto|   Netherlands|      Ikea Chair Set|         Furniture|  218.2|cancelled|2025-09-10|\n",
      "|      60|          Dana Soto|   Netherlands| Samsung Galaxy Buds|             Audio|   NULL|completed|2025-09-10|\n",
      "|      22|          Dana Soto|   Netherlands|     Fitbit Charge 5|         Wearables| 103.44| returned|2025-09-10|\n",
      "|      27|     Melissa Harris|         Tonga|  Dell XPS 13 Laptop|       Electronics|1059.49|completed|2025-09-10|\n",
      "|       9|     Melissa Harris|         Tonga| Keurig Coffee Maker|Kitchen Appliances|1469.79|completed|2025-09-10|\n",
      "|      47|      Carl Jennings|       Somalia|          Clean Code|             Books| 827.09| returned|2025-09-10|\n",
      "|       6|      Carl Jennings|       Somalia|       Atomic Habits|             Books|  59.92|completed|2025-09-10|\n",
      "|      49|      Robert Harris|    Martinique|Yonex Badminton R...|  Sports Equipment|  235.3|  pending|2025-09-10|\n",
      "|      74|        Matthew Gay|         Chile|   Philips Air Fryer|Kitchen Appliances| 548.32|  pending|2025-09-10|\n",
      "|      36|       Bobby Garcia|         Congo|The Lord of the R...|             Books|   NULL|cancelled|2025-09-10|\n",
      "+--------+-------------------+--------------+--------------------+------------------+-------+---------+----------+\n",
      "only showing top 20 rows\n",
      "\n"
     ]
    }
   ],
   "source": [
    "order_details.show(20)"
   ]
  },
  {
   "cell_type": "code",
   "execution_count": 77,
   "id": "b7c4cbbe-6d72-4116-b86c-2042b1236711",
   "metadata": {},
   "outputs": [],
   "source": [
    "order_details.write.jdbc(url=jdbc_url, table=\"order_details\", mode=\"append\", properties=connection_props)"
   ]
  },
  {
   "cell_type": "code",
   "execution_count": 56,
   "id": "20592b7f-318e-47a6-a4c0-c804993766e6",
   "metadata": {},
   "outputs": [],
   "source": [
    "order_details.createOrReplaceTempView(\"order_details\")"
   ]
  },
  {
   "cell_type": "code",
   "execution_count": 57,
   "id": "55adc96e-0f86-4069-a2e3-f0a53ea06556",
   "metadata": {},
   "outputs": [
    {
     "name": "stdout",
     "output_type": "stream",
     "text": [
      "+--------------+-----------+\n",
      "| customer_name|total_spend|\n",
      "+--------------+-----------+\n",
      "|  James Garner|    3691.17|\n",
      "|Maureen Turner|     2842.9|\n",
      "|Melissa Harris|    2529.28|\n",
      "| Karen Bernard|    2480.26|\n",
      "|    Terry Ward|    2344.79|\n",
      "+--------------+-----------+\n",
      "\n"
     ]
    }
   ],
   "source": [
    "top_customers_df = spark.sql(\"\"\"\n",
    "    SELECT customer_name, ROUND(SUM(amount),2)AS total_spend\n",
    "    FROM order_details\n",
    "    where status =\"completed\"\n",
    "    GROUP BY customer_name\n",
    "    ORDER BY total_spend DESC\n",
    "    LIMIT 5\n",
    "\"\"\")\n",
    "top_customers_df.show()"
   ]
  },
  {
   "cell_type": "code",
   "execution_count": 58,
   "id": "957e9bd0-a7f8-4546-8c7e-3250034460c4",
   "metadata": {},
   "outputs": [
    {
     "name": "stdout",
     "output_type": "stream",
     "text": [
      "+-------+--------+\n",
      "|  month| revenue|\n",
      "+-------+--------+\n",
      "|2025-09|79842.69|\n",
      "+-------+--------+\n",
      "\n"
     ]
    }
   ],
   "source": [
    "monthly_revenue_df = spark.sql(\"\"\"\n",
    "    SELECT DATE_FORMAT(order_date, 'yyyy-MM') AS month,\n",
    "           ROUND(SUM(amount),2) AS revenue\n",
    "    FROM order_details\n",
    "    WHERE order_date >= add_months(current_date(), -6)\n",
    "    GROUP BY DATE_FORMAT(order_date, 'yyyy-MM')\n",
    "    ORDER BY month\n",
    "\"\"\")\n",
    "monthly_revenue_df.show()"
   ]
  },
  {
   "cell_type": "code",
   "execution_count": 59,
   "id": "c0212e99-97c7-41ed-ba64-e1d2cd7eb571",
   "metadata": {},
   "outputs": [
    {
     "name": "stdout",
     "output_type": "stream",
     "text": [
      "+--------+------------+\n",
      "|category|total_orders|\n",
      "+--------+------------+\n",
      "|   Books|          16|\n",
      "+--------+------------+\n",
      "\n"
     ]
    }
   ],
   "source": [
    "popular_category_df = spark.sql(\"\"\"\n",
    "    SELECT category, COUNT(order_id) AS total_orders\n",
    "    FROM order_details\n",
    "    GROUP BY category\n",
    "    ORDER BY total_orders DESC\n",
    "    LIMIT 1\n",
    "\"\"\")\n",
    "popular_category_df.show()"
   ]
  },
  {
   "cell_type": "code",
   "execution_count": 62,
   "id": "4b0468c6-15c6-476b-b7a3-daf8dcce098b",
   "metadata": {},
   "outputs": [
    {
     "name": "stdout",
     "output_type": "stream",
     "text": [
      "+------------+-----+\n",
      "|order_status|count|\n",
      "+------------+-----+\n",
      "|   completed|   25|\n",
      "|   cancelled|   21|\n",
      "+------------+-----+\n",
      "\n"
     ]
    }
   ],
   "source": [
    "order_status_df = spark.sql(\"\"\"\n",
    "    SELECT \n",
    "        LOWER(TRIM(status)) AS order_status,\n",
    "        COUNT(*) AS count\n",
    "    FROM order_details\n",
    "    WHERE LOWER(TRIM(status)) IN ('completed', 'cancelled')\n",
    "    GROUP BY LOWER(TRIM(status))\n",
    "\"\"\")\n",
    "order_status_df.show()"
   ]
  },
  {
   "cell_type": "code",
   "execution_count": 65,
   "id": "44fe999b-0509-4a13-bbc4-ea48f4e2fe29",
   "metadata": {},
   "outputs": [],
   "source": [
    "top_customers_df.write.jdbc(url=jdbc_url, table=\"top_customers\", mode=\"overwrite\", properties=connection_props)"
   ]
  },
  {
   "cell_type": "code",
   "execution_count": 66,
   "id": "2ec7a783-7cc5-40d9-a7d9-eb0f3fa6d508",
   "metadata": {},
   "outputs": [],
   "source": [
    "monthly_revenue_df.write.jdbc(url=jdbc_url, table=\"monthly_revenue\", mode=\"overwrite\", properties=connection_props)"
   ]
  },
  {
   "cell_type": "code",
   "execution_count": 68,
   "id": "363b99a3-b9e7-4285-8ea7-f93b2c18cb43",
   "metadata": {},
   "outputs": [],
   "source": [
    "popular_category_df.write.jdbc(url=jdbc_url, table=\"popular_category\", mode=\"overwrite\", properties=connection_props)"
   ]
  },
  {
   "cell_type": "code",
   "execution_count": 69,
   "id": "c150c563-1bbc-49ca-b19d-9f9ea92cac55",
   "metadata": {},
   "outputs": [],
   "source": [
    "order_status_df.write.jdbc(url=jdbc_url, table=\"order_status\", mode=\"overwrite\", properties=connection_props)"
   ]
  },
  {
   "cell_type": "code",
   "execution_count": null,
   "id": "3552082b-ff35-428b-9bbf-328cbd37e5e9",
   "metadata": {},
   "outputs": [],
   "source": []
  }
 ],
 "metadata": {
  "kernelspec": {
   "display_name": "PYSPARK_KAERNEL",
   "language": "python",
   "name": "pyspark_kaernel"
  },
  "language_info": {
   "codemirror_mode": {
    "name": "ipython",
    "version": 3
   },
   "file_extension": ".py",
   "mimetype": "text/x-python",
   "name": "python",
   "nbconvert_exporter": "python",
   "pygments_lexer": "ipython3",
   "version": "3.12.6"
  }
 },
 "nbformat": 4,
 "nbformat_minor": 5
}
