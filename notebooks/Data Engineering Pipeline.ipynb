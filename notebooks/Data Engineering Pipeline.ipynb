{
 "cells": [
  {
   "cell_type": "code",
   "execution_count": 19,
   "id": "eebb530e-672c-4efb-b8aa-377827e7a461",
   "metadata": {},
   "outputs": [],
   "source": [
    "# 1) Imports & Setup\n",
    "import os\n",
    "import pandas as pd\n",
    "from faker import Faker\n",
    "import random\n",
    "from pyspark.sql.functions import round as spark_round,col,when,to_date,lit,avg\n",
    "from datetime import datetime,timedelta\n",
    "from sqlalchemy import create_engine\n",
    "from pyspark.sql import SparkSession,Window\n",
    "import numpy as np"
   ]
  },
  {
   "cell_type": "code",
   "execution_count": 20,
   "id": "da61658a-ffc5-4312-a0e4-b7de5519e998",
   "metadata": {},
   "outputs": [],
   "source": [
    "# 2) Output directory & Faker setup\n",
    "out_dir = \"../data\"# Directory to store CSV files\n",
    "os.makedirs(out_dir, exist_ok=True)# Create the folder if it doesn't exist\n",
    "fake = Faker()#Initialize faker to generate test data"
   ]
  },
  {
   "cell_type": "code",
   "execution_count": 21,
   "id": "7579e9ed-3e2d-479f-a2ca-497ffdd68c37",
   "metadata": {},
   "outputs": [
    {
     "name": "stdout",
     "output_type": "stream",
     "text": [
      "    customer_id               name                       email  \\\n",
      "0             1       Aaron Garner       aarongarner@gmail.com   \n",
      "1             2    Shannon Merritt    shannonmerritt@gmail.com   \n",
      "2             3      Sherry Murray      sherrymurray@gmail.com   \n",
      "3             4     Thomas Jimenez     thomasjimenez@gmail.com   \n",
      "4             5  Christopher Reyes  christopherreyes@gmail.com   \n",
      "5             6   Katherine Henson   katherinehenson@gmail.com   \n",
      "6             7   Vanessa Anderson   vanessaanderson@gmail.com   \n",
      "7             8     Christy Garcia     christygarcia@gmail.com   \n",
      "8             9        Mary Harvey        maryharvey@gmail.com   \n",
      "9            10     Jennifer Payne                        None   \n",
      "10           11    Denise Williams    denisewilliams@gmail.com   \n",
      "11           12        Grace Brown        gracebrown@gmail.com   \n",
      "12           13       Jason Arnold       jasonarnold@gmail.com   \n",
      "13           14     Bradley Obrien     bradleyobrien@gmail.com   \n",
      "14           15        Ethan Sloan                        None   \n",
      "15           16   Jonathan Herrera   jonathanherrera@gmail.com   \n",
      "16           17  Alexandra Hickman  alexandrahickman@gmail.com   \n",
      "17           18        Daniel Gray        danielgray@gmail.com   \n",
      "18           19        Denise Kidd        denisekidd@gmail.com   \n",
      "19           20        ##INVALID##                        None   \n",
      "20           21        Ryan Abbott        ryanabbott@gmail.com   \n",
      "21           22     Linda Jennings     lindajennings@gmail.com   \n",
      "22           23   William Harrison   williamharrison@gmail.com   \n",
      "23           24   Christine Cooper   christinecooper@gmail.com   \n",
      "24           25      Monica Torres      monicatorres@gmail.com   \n",
      "25           26       Michael Cruz       michaelcruz@gmail.com   \n",
      "26           27    James Middleton    jamesmiddleton@gmail.com   \n",
      "27           28  Jacqueline Burton  jacquelineburton@gmail.com   \n",
      "28           29         Scott Rios         scottrios@gmail.com   \n",
      "29           30        Shawn Lloyd                        None   \n",
      "\n",
      "                                         country  \n",
      "0                                         Greece  \n",
      "1                               Saint Barthelemy  \n",
      "2                                    Timor-Leste  \n",
      "3                                    Switzerland  \n",
      "4                                      Mauritius  \n",
      "5                              Brunei Darussalam  \n",
      "6                               Saint Barthelemy  \n",
      "7                                   Saint Martin  \n",
      "8                                      Australia  \n",
      "9                                           Peru  \n",
      "10                                  Cook Islands  \n",
      "11                                Czech Republic  \n",
      "12                                      Mongolia  \n",
      "13                                         Italy  \n",
      "14  Antarctica (the territory South of 60 deg S)  \n",
      "15                     Bouvet Island (Bouvetoya)  \n",
      "16                                Western Sahara  \n",
      "17                                      Dominica  \n",
      "18                                     Guatemala  \n",
      "19                                       Reunion  \n",
      "20                                 New Caledonia  \n",
      "21                                        Mexico  \n",
      "22                                       Namibia  \n",
      "23                                      Pakistan  \n",
      "24                                     Hong Kong  \n",
      "25                                     Greenland  \n",
      "26                                         Niger  \n",
      "27                                       Bahrain  \n",
      "28                                          Fiji  \n",
      "29                                        Kuwait  \n"
     ]
    }
   ],
   "source": [
    "#Customers.csv with invalid data\n",
    "customers = []\n",
    "for i in range(1,71):\n",
    "    name=fake.name()\n",
    "    email_name=name.lower().replace(\" \",\"\")\n",
    "    email=f\"{email_name}@gmail.com\"\n",
    "    country=fake.country()\n",
    "    if i%10==0:\n",
    "      email=None\n",
    "    if i%15==0:\n",
    "      email=None\n",
    "    if i%20==0:\n",
    "        name=\"##INVALID##\"\n",
    "\n",
    "    customers.append({\n",
    "        \"customer_id\": i,\n",
    "        \"name\": name,\n",
    "        \"email\": email,\n",
    "        \"country\":country\n",
    "    })\n",
    "pd.DataFrame(customers).to_csv(f\"{out_dir }/customers.csv\", index=False)\n",
    "customers_df=pd.DataFrame(customers)\n",
    "print(customers_df.head(30))"
   ]
  },
  {
   "cell_type": "code",
   "execution_count": 22,
   "id": "f5961156-07d3-4b3d-8d09-a6157f3d4083",
   "metadata": {},
   "outputs": [
    {
     "name": "stdout",
     "output_type": "stream",
     "text": [
      "   order_id  customer_id  product_id  order_date  amount     status\n",
      "0         1           52          44  2025-09-10  697.64   returned\n",
      "1         2           60           2  2025-09-10  914.00    pending\n",
      "2         3           15          12  2025-09-10  215.91  cancelled\n",
      "3         4            2          30  2025-09-10  526.23   returned\n",
      "4         5           49          48  2025-09-10  826.69    pending\n"
     ]
    }
   ],
   "source": [
    "#Orders.csv with invalid data\n",
    "statuses = [\"completed\", \"pending\", \"cancelled\", \"returned\"]\n",
    "orders = []\n",
    "\n",
    "for i in range(1, 100):\n",
    "    order_date = fake.date_between(start_date='-6m', end_date='today').strftime(\"%Y-%m-%d\")\n",
    "    if i % 17 == 0:\n",
    "        order_date = None\n",
    "    amount = __builtins__.round(random.uniform(-50, 2000), 2)\n",
    "    if i % 12 == 0:\n",
    "        amount = -abs(amount)\n",
    "    status = random.choice(statuses)\n",
    "    orders.append({\n",
    "        \"order_id\": i,\n",
    "        \"customer_id\": random.randint(1, 70),\n",
    "        \"product_id\": random.randint(1, 50),\n",
    "        \"order_date\": order_date,\n",
    "        \"amount\": amount,\n",
    "        \"status\": status\n",
    "    })\n",
    "orders_df = pd.DataFrame(orders)\n",
    "orders_df.to_csv(f\"{out_dir}/orders.csv\", index=False)\n",
    "print(orders_df.head())"
   ]
  },
  {
   "cell_type": "code",
   "execution_count": 23,
   "id": "6ef7f3a9-7d79-449a-924f-1c5f55962330",
   "metadata": {},
   "outputs": [
    {
     "name": "stdout",
     "output_type": "stream",
     "text": [
      "   product_id                        name     category   price\n",
      "0           1                   iPhone 14  Electronics   88.85\n",
      "1           2          Samsung Galaxy S23  Electronics  604.05\n",
      "2           3              MacBook Pro 14  Electronics  317.84\n",
      "3           4  Sony WH-1000XM5 Headphones  Electronics  920.36\n",
      "4           5        Apple Watch Series 9    Wearables  349.81\n"
     ]
    }
   ],
   "source": [
    "#Products.csv with invalid data\n",
    "products_catalog = [\n",
    "    (\"iPhone 14\", \"Electronics\"), (\"Samsung Galaxy S23\", \"Electronics\"),\n",
    "    (\"MacBook Pro 14\", \"Electronics\"), (\"Sony WH-1000XM5 Headphones\", \"Electronics\"),\n",
    "    (\"Apple Watch Series 9\", \"Wearables\"), (\"Fitbit Charge 5\", \"Wearables\"),\n",
    "    (\"Dell XPS 13 Laptop\", \"Electronics\"), (\"iPad Air\", \"Tablets\"),\n",
    "    (\"Bose QuietComfort Earbuds\", \"Audio\"), (\"Samsung Galaxy Buds\", \"Audio\"),\n",
    "    (\"Canon EOS Rebel Camera\", \"Photography\"), (\"GoPro HERO10\", \"Photography\"),\n",
    "    (\"Nike Air Max Shoes\", \"Footwear\"), (\"Puma Running Shoes\", \"Footwear\"),\n",
    "    (\"Levi's 501 Jeans\", \"Apparel\"), (\"Adidas Hoodie\", \"Apparel\"),\n",
    "    (\"Zara T-Shirt\", \"Apparel\"), (\"H&M Casual Dress\", \"Apparel\"),\n",
    "    (\"Gucci Leather Belt\", \"Accessories\"), (\"Under Armour Shorts\", \"Sportswear\"),\n",
    "    (\"Harry Potter Book Set\", \"Books\"), (\"The Lord of the Rings Trilogy\", \"Books\"),\n",
    "    (\"Atomic Habits\", \"Books\"), (\"Rich Dad Poor Dad\", \"Books\"),\n",
    "    (\"Python Crash Course\", \"Books\"), (\"Clean Code\", \"Books\"),\n",
    "    (\"Game of Thrones Box Set\", \"Books\"), (\"The Lean Startup\", \"Books\"),\n",
    "    (\"To Kill a Mockingbird\", \"Books\"), (\"1984\", \"Books\"),\n",
    "    (\"Ikea Dining Table\", \"Furniture\"), (\"Sealy Memory Foam Mattress\", \"Furniture\"),\n",
    "    (\"Ikea Chair Set\", \"Furniture\"), (\"Philips Air Fryer\", \"Kitchen Appliances\"),\n",
    "    (\"NutriBullet Blender\", \"Kitchen Appliances\"), (\"Instant Pot Cooker\", \"Kitchen Appliances\"),\n",
    "    (\"Hamilton Beach Toaster\", \"Kitchen Appliances\"), (\"Keurig Coffee Maker\", \"Kitchen Appliances\"),\n",
    "    (\"Philips LED Desk Lamp\", \"Lighting\"), (\"Dyson V15 Vacuum Cleaner\", \"Home Appliances\"),\n",
    "    (\"Wilson Tennis Racket\", \"Sports Equipment\"), (\"Adidas Football\", \"Sports Equipment\"),\n",
    "    (\"Spalding Basketball\", \"Sports Equipment\"), (\"Yonex Badminton Racket\", \"Sports Equipment\"),\n",
    "    (\"Nike Yoga Mat\", \"Fitness\"), (\"Reebok Jump Rope\", \"Fitness\"),\n",
    "    (\"Speedo Swimming Goggles\", \"Sports Accessories\"), (\"Titleist Golf Balls\", \"Sports Equipment\"),\n",
    "    (\"LEGO Star Wars Set\", \"Toys & Games\"), (\"Barbie Dreamhouse\", \"Dolls\"),\n",
    "    (\"Hot Wheels Track Set\", \"Toys & Games\"), (\"Monopoly Board Game\", \"Board Games\"),\n",
    "    (\"Rubik's Cube\", \"Puzzles\"), (\"Nerf Elite Blaster\", \"Outdoor Toys\"),\n",
    "    (\"Play-Doh Fun Pack\", \"Arts & Crafts\"), (\"Fisher-Price Baby Gym\", \"Baby Toys\"),\n",
    "    (\"Disney Princess Doll\", \"Dolls\"), (\"LEGO Technic Car\", \"Toys & Games\")\n",
    "]\n",
    "products = []\n",
    "for i, (name, category) in enumerate(products_catalog, start=1):\n",
    "    products.append({\n",
    "        \"product_id\": i,\n",
    "        \"name\": name,\n",
    "        \"category\": category,\n",
    "        \"price\": round(random.uniform(10, 1200), 2)\n",
    "    })\n",
    "pd.DataFrame(products).to_csv(f\"{out_dir}/products.csv\", index=False)\n",
    "products_df=pd.DataFrame(products)\n",
    "print(products_df.head())"
   ]
  },
  {
   "cell_type": "code",
   "execution_count": 24,
   "id": "11209586-0063-469e-b442-fce6d3eca80d",
   "metadata": {},
   "outputs": [],
   "source": [
    "# 6) Setup SparkSession with JDBC\n",
    "jdbc_jar = r\"C:\\spark\\spark-3.5.6-bin-hadoop3\\jars\\postgresql-42.7.7.jar\"\n",
    "\n",
    "spark = SparkSession.builder \\\n",
    "    .appName(\"DataEngineeringPipeline\") \\\n",
    "    .config(\"spark.driver.extraClassPath\", jdbc_jar) \\\n",
    "    .getOrCreate()#Initialize spark"
   ]
  },
  {
   "cell_type": "code",
   "execution_count": 25,
   "id": "099f645a-8c8d-40f6-92f5-4bcf90cdd8f0",
   "metadata": {},
   "outputs": [],
   "source": [
    "# 7) Convert pandas DataFrames to Spark DataFrames & lowercase columns\n",
    "customers_df = spark.read.csv(f\"{out_dir}/customers.csv\", header=True, inferSchema=True)\n",
    "products_df= spark.read.csv(f\"{out_dir}/products.csv\", header=True, inferSchema=True)\n",
    "orders_df = spark.read.csv(f\"{out_dir}/orders.csv\", header=True, inferSchema=True)"
   ]
  },
  {
   "cell_type": "code",
   "execution_count": 26,
   "id": "a0578f82-bc95-429f-86b2-a42151716ad8",
   "metadata": {},
   "outputs": [],
   "source": [
    "customers_df = customers_df.toDF(*[c.lower().strip() for c in customers_df.columns])\n",
    "products_df = products_df.toDF(*[c.lower().strip() for c in products_df.columns])\n",
    "orders_df   = orders_df.toDF(*[c.lower().strip() for c in orders_df.columns])"
   ]
  },
  {
   "cell_type": "code",
   "execution_count": 27,
   "id": "5d73e50d-5979-4032-990e-ccddaf388200",
   "metadata": {},
   "outputs": [],
   "source": [
    "# Replace invalid names with NULL\n",
    "customers_df=customers_df.withColumn(\"name\",when((col(\"name\")==\"##INVALID##\")| (col(\"name\").isNull()),None).otherwise(col(\"name\")))\n",
    "# Replace invalid email strings with NULL\n",
    "customers_df = customers_df.withColumn(\"email\",when((col(\"email\")==\"None\") | (col(\"email\").isNull()), None).otherwise(col(\"email\")))\n",
    "# Remove duplicates based on customer_id\n",
    "customers_df = customers_df.dropDuplicates([\"customer_id\"])"
   ]
  },
  {
   "cell_type": "code",
   "execution_count": 28,
   "id": "11b4ab5a-af36-4306-b532-b8a9096dd114",
   "metadata": {},
   "outputs": [],
   "source": [
    "# Convert order_date to Spark DateType\n",
    "orders_df = orders_df.withColumn(\"order_date\",to_date(\"order_date\", \"yyyy-MM-dd\"))\n",
    "# Set any negative or zero amounts to 0\n",
    "orders_df = orders_df.withColumn(\"amount\",when(col(\"amount\") <= 0, 0).otherwise(col(\"amount\")))"
   ]
  },
  {
   "cell_type": "code",
   "execution_count": 29,
   "id": "ebd6816d-7c2f-459f-a5a7-e197583d9e33",
   "metadata": {},
   "outputs": [],
   "source": [
    "category_avg = products_df.groupBy(\"category\").agg(avg(\"price\").alias(\"avg_price\"))# Calculate category average price\n",
    "products_df = products_df.join(category_avg, on=\"category\", how=\"left\")# Join average back to products\n",
    "products_df = products_df.withColumn(\"price\",when(col(\"price\") <= 0, col(\"avg_price\")).otherwise(col(\"price\")))# Replace invalid or non-positive price with category average\n",
    "products_df = products_df.drop(\"avg_price\")# Drop helper column"
   ]
  },
  {
   "cell_type": "code",
   "execution_count": 30,
   "id": "db15d316-a4df-4da2-a607-5682e451e600",
   "metadata": {},
   "outputs": [],
   "source": [
    "# Rename columns to avoid collisions after join\n",
    "customers_df = customers_df.withColumnRenamed(\"name\", \"customer_name\")\n",
    "products_df  = products_df.withColumnRenamed(\"name\", \"product_name\")"
   ]
  },
  {
   "cell_type": "code",
   "execution_count": 31,
   "id": "b25d3095-5acb-480a-805a-59e2ab482e4c",
   "metadata": {},
   "outputs": [],
   "source": [
    "#JDBC connection properties\n",
    "jdbc_url = \"jdbc:postgresql://localhost:5432/de_pipeline\"\n",
    "\n",
    "connection_props = {\n",
    "    \"user\": \"postgres\",\n",
    "    \"password\": \"root\",\n",
    "    \"driver\": \"org.postgresql.Driver\"\n",
    "}"
   ]
  },
  {
   "cell_type": "code",
   "execution_count": 32,
   "id": "f4a8d630-8a61-4154-b1ba-b896bca0cf03",
   "metadata": {},
   "outputs": [],
   "source": [
    "# Create order_details by joining\n",
    "order_details = (\n",
    "    orders_df\n",
    "    .join(customers_df, \"customer_id\", \"inner\")\n",
    "    .join(products_df, \"product_id\", \"inner\")\n",
    "    .select(\n",
    "        \"order_id\",\n",
    "        customers_df[\"customer_name\"],\n",
    "        \"country\",\n",
    "        products_df[\"product_name\"],\n",
    "        \"category\",\n",
    "        \"amount\",\n",
    "        \"status\",\n",
    "        \"order_date\"\n",
    "    )\n",
    ")"
   ]
  },
  {
   "cell_type": "code",
   "execution_count": 33,
   "id": "bbd6036e-8730-430f-9859-3b3bc8a5efc4",
   "metadata": {},
   "outputs": [
    {
     "name": "stdout",
     "output_type": "stream",
     "text": [
      "+--------+-----------------+----------------+--------------------+---------------+-------+---------+----------+\n",
      "|order_id|    customer_name|         country|        product_name|       category| amount|   status|order_date|\n",
      "+--------+-----------------+----------------+--------------------+---------------+-------+---------+----------+\n",
      "|      28|     Aaron Garner|          Greece|    Reebok Jump Rope|        Fitness| 967.82|completed|2025-09-10|\n",
      "|       4|  Shannon Merritt|Saint Barthelemy|                1984|          Books| 526.23| returned|2025-09-10|\n",
      "|      50|    Sherry Murray|     Timor-Leste|The Lord of the R...|          Books| 155.71|  pending|2025-09-10|\n",
      "|      13|    Sherry Murray|     Timor-Leste|          Clean Code|          Books| 995.55|completed|2025-09-10|\n",
      "|      63|   Thomas Jimenez|     Switzerland|Dyson V15 Vacuum ...|Home Appliances| 464.64|  pending|2025-09-10|\n",
      "|      30|   Thomas Jimenez|     Switzerland|       Atomic Habits|          Books|1902.23| returned|2025-09-10|\n",
      "|      83|Christopher Reyes|       Mauritius|     Fitbit Charge 5|      Wearables|1970.68| returned|2025-09-10|\n",
      "|      55|Christopher Reyes|       Mauritius|       Adidas Hoodie|        Apparel| 647.25| returned|2025-09-10|\n",
      "|      39|Christopher Reyes|       Mauritius|  Puma Running Shoes|       Footwear| 1681.7|cancelled|2025-09-10|\n",
      "|      97| Vanessa Anderson|Saint Barthelemy|Canon EOS Rebel C...|    Photography|1957.46|cancelled|2025-09-10|\n",
      "|      85|      Mary Harvey|       Australia|The Lord of the R...|          Books|1459.24|cancelled|      NULL|\n",
      "|      57|      Mary Harvey|       Australia|          Clean Code|          Books|1555.44|  pending|2025-09-10|\n",
      "|      99|   Jennifer Payne|            Peru|  Gucci Leather Belt|    Accessories| 290.35| returned|2025-09-10|\n",
      "|      43|  Denise Williams|    Cook Islands|To Kill a Mocking...|          Books| 339.81|  pending|2025-09-10|\n",
      "|      10|  Denise Williams|    Cook Islands|   Barbie Dreamhouse|          Dolls| 339.35| returned|2025-09-10|\n",
      "|      64|      Grace Brown|  Czech Republic|  Gucci Leather Belt|    Accessories|1246.03|  pending|2025-09-10|\n",
      "|      12|      Grace Brown|  Czech Republic|      MacBook Pro 14|    Electronics|    0.0|cancelled|2025-09-10|\n",
      "|       9|      Grace Brown|  Czech Republic|Dyson V15 Vacuum ...|Home Appliances| 733.56| returned|2025-09-10|\n",
      "|      94|     Jason Arnold|        Mongolia|Game of Thrones B...|          Books|1893.02|  pending|2025-09-10|\n",
      "|      93|   Bradley Obrien|           Italy|       Nike Yoga Mat|        Fitness| 959.32| returned|2025-09-10|\n",
      "+--------+-----------------+----------------+--------------------+---------------+-------+---------+----------+\n",
      "only showing top 20 rows\n",
      "\n"
     ]
    }
   ],
   "source": [
    "order_details.show(20) # Preview first 20 rows"
   ]
  },
  {
   "cell_type": "code",
   "execution_count": 34,
   "id": "b7c4cbbe-6d72-4116-b86c-2042b1236711",
   "metadata": {},
   "outputs": [],
   "source": [
    "# Persist order_details & create temp view\n",
    "order_details.write.jdbc(url=jdbc_url, table=\"order_details\", mode=\"append\", properties=connection_props)"
   ]
  },
  {
   "cell_type": "code",
   "execution_count": 35,
   "id": "3bb55c3e-3b9b-49ff-96de-53e98e7f7329",
   "metadata": {},
   "outputs": [],
   "source": [
    "order_details.createOrReplaceTempView(\"order_details\")"
   ]
  },
  {
   "cell_type": "code",
   "execution_count": 36,
   "id": "55adc96e-0f86-4069-a2e3-f0a53ea06556",
   "metadata": {},
   "outputs": [
    {
     "name": "stdout",
     "output_type": "stream",
     "text": [
      "+-----------------+-----------+\n",
      "|    customer_name|total_spend|\n",
      "+-----------------+-----------+\n",
      "|      John Kramer|    1939.62|\n",
      "|   Linda Jennings|    1928.84|\n",
      "|    Mary Mitchell|    1850.47|\n",
      "| William Harrison|    1797.07|\n",
      "|Jacqueline Burton|    1614.39|\n",
      "+-----------------+-----------+\n",
      "\n"
     ]
    }
   ],
   "source": [
    "# Top Customers\n",
    "top_customers_df = spark.sql(\"\"\"\n",
    "    SELECT customer_name, ROUND(SUM(amount),2)AS total_spend\n",
    "    FROM order_details\n",
    "    where status =\"completed\"\n",
    "    GROUP BY customer_name\n",
    "    ORDER BY total_spend DESC\n",
    "    LIMIT 5\n",
    "\"\"\")\n",
    "top_customers_df.show()"
   ]
  },
  {
   "cell_type": "code",
   "execution_count": 37,
   "id": "957e9bd0-a7f8-4546-8c7e-3250034460c4",
   "metadata": {},
   "outputs": [
    {
     "name": "stdout",
     "output_type": "stream",
     "text": [
      "+-------+--------+\n",
      "|  month| revenue|\n",
      "+-------+--------+\n",
      "|2025-09|92133.91|\n",
      "+-------+--------+\n",
      "\n"
     ]
    }
   ],
   "source": [
    "# Monthly Revenue last 6 months\n",
    "monthly_revenue_df = spark.sql(\"\"\"\n",
    "    SELECT DATE_FORMAT(order_date, 'yyyy-MM') AS month,\n",
    "           ROUND(SUM(amount),2) AS revenue\n",
    "    FROM order_details\n",
    "    WHERE order_date >= add_months(current_date(), -6)\n",
    "    GROUP BY DATE_FORMAT(order_date, 'yyyy-MM')\n",
    "    ORDER BY month\n",
    "\"\"\")\n",
    "monthly_revenue_df.show()"
   ]
  },
  {
   "cell_type": "code",
   "execution_count": 38,
   "id": "c0212e99-97c7-41ed-ba64-e1d2cd7eb571",
   "metadata": {},
   "outputs": [
    {
     "name": "stdout",
     "output_type": "stream",
     "text": [
      "+--------+------------+\n",
      "|category|total_orders|\n",
      "+--------+------------+\n",
      "|   Books|          26|\n",
      "+--------+------------+\n",
      "\n"
     ]
    }
   ],
   "source": [
    "# Most popular category\n",
    "popular_category_df = spark.sql(\"\"\"\n",
    "    SELECT category, COUNT(order_id) AS total_orders\n",
    "    FROM order_details\n",
    "    GROUP BY category\n",
    "    ORDER BY total_orders DESC\n",
    "    LIMIT 1\n",
    "\"\"\")\n",
    "popular_category_df.show()"
   ]
  },
  {
   "cell_type": "code",
   "execution_count": 39,
   "id": "4b0468c6-15c6-476b-b7a3-daf8dcce098b",
   "metadata": {},
   "outputs": [
    {
     "name": "stdout",
     "output_type": "stream",
     "text": [
      "+------------+-----+\n",
      "|order_status|count|\n",
      "+------------+-----+\n",
      "|   completed|   14|\n",
      "|   cancelled|   25|\n",
      "+------------+-----+\n",
      "\n"
     ]
    }
   ],
   "source": [
    "# Count of completed vs cancelled orders\n",
    "order_status_df = spark.sql(\"\"\"\n",
    "    SELECT \n",
    "        LOWER(TRIM(status)) AS order_status,\n",
    "        COUNT(*) AS count\n",
    "    FROM order_details\n",
    "    WHERE LOWER(TRIM(status)) IN ('completed', 'cancelled')\n",
    "    GROUP BY LOWER(TRIM(status))\n",
    "\"\"\")\n",
    "order_status_df.show()"
   ]
  },
  {
   "cell_type": "code",
   "execution_count": 40,
   "id": "44fe999b-0509-4a13-bbc4-ea48f4e2fe29",
   "metadata": {},
   "outputs": [],
   "source": [
    "# Save top_customers back to PostgreSQL\n",
    "top_customers_df.write.jdbc(url=jdbc_url, table=\"top_customers\", mode=\"overwrite\", properties=connection_props)"
   ]
  },
  {
   "cell_type": "code",
   "execution_count": 41,
   "id": "2ec7a783-7cc5-40d9-a7d9-eb0f3fa6d508",
   "metadata": {},
   "outputs": [],
   "source": [
    "# Save monthly_revenue back to PostgreSQL\n",
    "monthly_revenue_df.write.jdbc(url=jdbc_url, table=\"monthly_revenue\", mode=\"overwrite\", properties=connection_props)"
   ]
  },
  {
   "cell_type": "code",
   "execution_count": 42,
   "id": "363b99a3-b9e7-4285-8ea7-f93b2c18cb43",
   "metadata": {},
   "outputs": [],
   "source": [
    "# Save popular_category back to PostgreSQL\n",
    "popular_category_df.write.jdbc(url=jdbc_url, table=\"popular_category\", mode=\"overwrite\", properties=connection_props)"
   ]
  },
  {
   "cell_type": "code",
   "execution_count": 43,
   "id": "c150c563-1bbc-49ca-b19d-9f9ea92cac55",
   "metadata": {},
   "outputs": [],
   "source": [
    "# Save order_status back to PostgreSQL\n",
    "order_status_df.write.jdbc(url=jdbc_url, table=\"order_status\", mode=\"overwrite\", properties=connection_props)"
   ]
  },
  {
   "cell_type": "code",
   "execution_count": null,
   "id": "94d155c3-4d62-4a9c-8336-c4bad6abad42",
   "metadata": {},
   "outputs": [],
   "source": []
  }
 ],
 "metadata": {
  "kernelspec": {
   "display_name": "PYSPARK_KAERNEL",
   "language": "python",
   "name": "pyspark_kaernel"
  },
  "language_info": {
   "codemirror_mode": {
    "name": "ipython",
    "version": 3
   },
   "file_extension": ".py",
   "mimetype": "text/x-python",
   "name": "python",
   "nbconvert_exporter": "python",
   "pygments_lexer": "ipython3",
   "version": "3.12.6"
  }
 },
 "nbformat": 4,
 "nbformat_minor": 5
}
